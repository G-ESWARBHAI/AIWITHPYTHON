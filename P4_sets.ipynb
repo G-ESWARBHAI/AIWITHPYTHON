{
 "cells": [
  {
   "cell_type": "code",
   "execution_count": 2,
   "id": "8a125143",
   "metadata": {},
   "outputs": [
    {
     "data": {
      "text/plain": [
       "{'Chinnari', 'Jaanu', 'Mani'}"
      ]
     },
     "execution_count": 2,
     "metadata": {},
     "output_type": "execute_result"
    }
   ],
   "source": [
    "s={\"Mani\",\"Chinnari\",\"Jaanu\",\"Mani\"}\n",
    "s"
   ]
  },
  {
   "cell_type": "code",
   "execution_count": 3,
   "id": "75d0bb36",
   "metadata": {},
   "outputs": [
    {
     "name": "stdout",
     "output_type": "stream",
     "text": [
      "3\n"
     ]
    }
   ],
   "source": [
    "print(len(s))"
   ]
  },
  {
   "cell_type": "code",
   "execution_count": 4,
   "id": "b882af12",
   "metadata": {},
   "outputs": [
    {
     "data": {
      "text/plain": [
       "{'Chinnari', 'Jaanu', 'Mani'}"
      ]
     },
     "execution_count": 4,
     "metadata": {},
     "output_type": "execute_result"
    }
   ],
   "source": [
    "m=set((\"Mani\",\"Chinnari\",\"Jaanu\"))\n",
    "m"
   ]
  },
  {
   "cell_type": "code",
   "execution_count": 5,
   "id": "baa50881",
   "metadata": {},
   "outputs": [
    {
     "data": {
      "text/plain": [
       "{'Chinnari', 'Jaanu', 'MK', 'Mani'}"
      ]
     },
     "execution_count": 5,
     "metadata": {},
     "output_type": "execute_result"
    }
   ],
   "source": [
    "m.add(\"MK\")\n",
    "m"
   ]
  },
  {
   "cell_type": "code",
   "execution_count": 6,
   "id": "f690c658",
   "metadata": {},
   "outputs": [
    {
     "data": {
      "text/plain": [
       "{'Chinnari', 'Jaanu', 'Mani'}"
      ]
     },
     "execution_count": 6,
     "metadata": {},
     "output_type": "execute_result"
    }
   ],
   "source": [
    "m.discard(\"MK\")\n",
    "m"
   ]
  },
  {
   "cell_type": "code",
   "execution_count": 7,
   "id": "b15cd97a",
   "metadata": {},
   "outputs": [
    {
     "data": {
      "text/plain": [
       "{'Chinnari', 'Jaanu'}"
      ]
     },
     "execution_count": 7,
     "metadata": {},
     "output_type": "execute_result"
    }
   ],
   "source": [
    "m.pop()\n",
    "m"
   ]
  },
  {
   "cell_type": "code",
   "execution_count": 10,
   "id": "364d3e14",
   "metadata": {},
   "outputs": [
    {
     "data": {
      "text/plain": [
       "{'Chinnari', 'Jaanu'}"
      ]
     },
     "execution_count": 10,
     "metadata": {},
     "output_type": "execute_result"
    }
   ],
   "source": [
    "m"
   ]
  },
  {
   "cell_type": "code",
   "execution_count": 11,
   "id": "b77c39a2",
   "metadata": {},
   "outputs": [
    {
     "name": "stdout",
     "output_type": "stream",
     "text": [
      "{'Mani', 'Chinnari', 'Jaanu'}\n"
     ]
    }
   ],
   "source": [
    "s={\"Mani\",\"Jaanu\"}\n",
    "print(m.union(s))"
   ]
  },
  {
   "cell_type": "code",
   "execution_count": 13,
   "id": "6f3b7a3f",
   "metadata": {},
   "outputs": [
    {
     "name": "stdout",
     "output_type": "stream",
     "text": [
      "{'Jaanu', 'Mani', 'Chinnari'}\n"
     ]
    }
   ],
   "source": [
    "m.update(s)\n",
    "print(m)"
   ]
  },
  {
   "cell_type": "code",
   "execution_count": 17,
   "id": "b0445c33",
   "metadata": {},
   "outputs": [
    {
     "name": "stdout",
     "output_type": "stream",
     "text": [
      "{'Apple'}\n"
     ]
    }
   ],
   "source": [
    "x={\"Apple\",\"Banana\",\"Cherry\"}\n",
    "y={\"Google\",\"Microsoft\",\"Apple\"}\n",
    "x.intersection_update(y)\n",
    "print(x)"
   ]
  },
  {
   "cell_type": "code",
   "execution_count": 18,
   "id": "dadffc02",
   "metadata": {},
   "outputs": [
    {
     "name": "stdout",
     "output_type": "stream",
     "text": [
      "{'Cherry', 'Banana', 'Apple'}\n"
     ]
    }
   ],
   "source": [
    "x={\"Apple\",\"Banana\",\"Cherry\"}\n",
    "y={\"Google\",\"Microsoft\",\"Apple\"}\n",
    "x.intersection(y)\n",
    "print(x)"
   ]
  },
  {
   "cell_type": "code",
   "execution_count": 19,
   "id": "7ec1b2e8",
   "metadata": {},
   "outputs": [
    {
     "name": "stdout",
     "output_type": "stream",
     "text": [
      "{'Google', 'Banana', 'Microsoft', 'Cherry'}\n"
     ]
    }
   ],
   "source": [
    "x={\"Apple\",\"Banana\",\"Cherry\"}\n",
    "y={\"Google\",\"Microsoft\",\"Apple\"}\n",
    "x.symmetric_difference_update(y)\n",
    "print(x)"
   ]
  },
  {
   "cell_type": "code",
   "execution_count": 20,
   "id": "b8e171d5",
   "metadata": {},
   "outputs": [
    {
     "name": "stdout",
     "output_type": "stream",
     "text": [
      "{'Cherry', 'Banana', 'Apple'}\n"
     ]
    }
   ],
   "source": [
    "x={\"Apple\",\"Banana\",\"Cherry\"}\n",
    "y={\"Google\",\"Microsoft\",\"Apple\"}\n",
    "x.symmetric_difference(y)\n",
    "print(x)"
   ]
  },
  {
   "cell_type": "code",
   "execution_count": null,
   "id": "527cb0b6",
   "metadata": {},
   "outputs": [],
   "source": []
  }
 ],
 "metadata": {
  "kernelspec": {
   "display_name": "Python 3 (ipykernel)",
   "language": "python",
   "name": "python3"
  },
  "language_info": {
   "codemirror_mode": {
    "name": "ipython",
    "version": 3
   },
   "file_extension": ".py",
   "mimetype": "text/x-python",
   "name": "python",
   "nbconvert_exporter": "python",
   "pygments_lexer": "ipython3",
   "version": "3.8.10"
  }
 },
 "nbformat": 4,
 "nbformat_minor": 5
}
